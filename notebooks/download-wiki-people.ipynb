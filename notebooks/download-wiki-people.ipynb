{
 "cells": [
  {
   "cell_type": "code",
   "execution_count": 36,
   "metadata": {},
   "outputs": [
    {
     "name": "stdout",
     "output_type": "stream",
     "text": [
      "The autoreload extension is already loaded. To reload it, use:\n",
      "  %reload_ext autoreload\n"
     ]
    }
   ],
   "source": [
    "%load_ext autoreload\n",
    "%autoreload 2\n",
    "\n",
    "import re\n",
    "import os\n",
    "import sys\n",
    "import requests\n",
    "\n",
    "\n",
    "from bs4 import BeautifulSoup\n",
    "\n",
    "module_path = os.path.abspath(os.path.join('..'))\n",
    "if module_path not in sys.path:\n",
    "    sys.path.append(module_path)\n",
    "    \n",
    "from name import wiki\n",
    "from name.named_entity import NamedEntity"
   ]
  },
  {
   "cell_type": "code",
   "execution_count": null,
   "metadata": {},
   "outputs": [],
   "source": []
  },
  {
   "cell_type": "markdown",
   "metadata": {},
   "source": [
    "# The Wiki List\n",
    "\n",
    "Starting from the Wiki list page: https://en.wikipedia.org/wiki/List_of_Japanese_people\n",
    "\n"
   ]
  },
  {
   "cell_type": "code",
   "execution_count": 16,
   "metadata": {},
   "outputs": [],
   "source": [
    "res = requests.get('https://en.wikipedia.org/wiki/List_of_Japanese_people')\n",
    "page = BeautifulSoup(res.text)"
   ]
  },
  {
   "cell_type": "code",
   "execution_count": 17,
   "metadata": {},
   "outputs": [
    {
     "name": "stdout",
     "output_type": "stream",
     "text": [
      "list_links 336\n"
     ]
    },
    {
     "data": {
      "text/plain": [
       "[<a href=\"/wiki/Yoshisuke_Aikawa\" title=\"Yoshisuke Aikawa\">Yoshisuke Aikawa</a>,\n",
       " <a href=\"/wiki/Takeo_Fujisawa\" title=\"Takeo Fujisawa\">Takeo Fujisawa</a>,\n",
       " <a href=\"/wiki/Hirotoshi_Honda\" title=\"Hirotoshi Honda\">Hirotoshi Honda</a>,\n",
       " <a class=\"mw-redirect\" href=\"/wiki/Konosuke_Matsushita\" title=\"Konosuke Matsushita\">Konosuke Matsushita</a>]"
      ]
     },
     "execution_count": 17,
     "metadata": {},
     "output_type": "execute_result"
    }
   ],
   "source": [
    "list_links = page.select('.mw-parser-output>ul li a:first-child[href]')\n",
    "print('list_links', len(list_links))\n",
    "list_links[:4]"
   ]
  },
  {
   "cell_type": "code",
   "execution_count": 18,
   "metadata": {},
   "outputs": [
    {
     "name": "stdout",
     "output_type": "stream",
     "text": [
      "col_links 381\n"
     ]
    },
    {
     "data": {
      "text/plain": [
       "[<a href=\"/wiki/Daiki_Arioka\" title=\"Daiki Arioka\">Daiki Arioka</a>,\n",
       " <a href=\"/wiki/Goro_Inagaki\" title=\"Goro Inagaki\">Goro Inagaki</a>,\n",
       " <a href=\"/wiki/Hikaru_Yaotome\" title=\"Hikaru Yaotome\">Hikaru Yaotome</a>,\n",
       " <a href=\"/wiki/Hiroki_Uchi\" title=\"Hiroki Uchi\">Hiroki Uchi</a>]"
      ]
     },
     "execution_count": 18,
     "metadata": {},
     "output_type": "execute_result"
    }
   ],
   "source": [
    "col_links = page.select('.div-col>ul li a:first-child[href]')\n",
    "print('col_links', len(col_links))\n",
    "col_links[:4]"
   ]
  },
  {
   "cell_type": "code",
   "execution_count": 19,
   "metadata": {},
   "outputs": [
    {
     "name": "stdout",
     "output_type": "stream",
     "text": [
      "table_links 92\n"
     ]
    },
    {
     "data": {
      "text/plain": [
       "[<a href=\"/wiki/Tokugawa_Ieyasu\" title=\"Tokugawa Ieyasu\">Tokugawa Ieyasu</a>,\n",
       " <a href=\"/wiki/Tokugawa_Hidetada\" title=\"Tokugawa Hidetada\">Tokugawa Hidetada</a>,\n",
       " <a href=\"/wiki/Tokugawa_Iemitsu\" title=\"Tokugawa Iemitsu\">Tokugawa Iemitsu</a>,\n",
       " <a href=\"/wiki/Tokugawa_Ietsuna\" title=\"Tokugawa Ietsuna\">Tokugawa Ietsuna</a>]"
      ]
     },
     "execution_count": 19,
     "metadata": {},
     "output_type": "execute_result"
    }
   ],
   "source": [
    "table_links = page.select('.wikitable tr td b>a[href]')\n",
    "print('table_links', len(table_links))\n",
    "table_links[:4]"
   ]
  },
  {
   "cell_type": "code",
   "execution_count": 22,
   "metadata": {},
   "outputs": [
    {
     "name": "stdout",
     "output_type": "stream",
     "text": [
      "links 760\n"
     ]
    },
    {
     "data": {
      "text/plain": [
       "['https://en.wikipedia.org/wiki/Koji_Murofushi',\n",
       " 'https://en.wikipedia.org/wiki/Shoko_Asahara',\n",
       " 'https://en.wikipedia.org/wiki/Kazuhide_Uekusa',\n",
       " 'https://en.wikipedia.org/wiki/Masayoshi_%22Mabo%22_Kabe',\n",
       " 'https://en.wikipedia.org/wiki/Taigen_Sessai']"
      ]
     },
     "execution_count": 22,
     "metadata": {},
     "output_type": "execute_result"
    }
   ],
   "source": [
    "links = []\n",
    "links += ['https://en.wikipedia.org' + a.get('href') for a in list_links]\n",
    "links += ['https://en.wikipedia.org' + a.get('href') for a in col_links]\n",
    "links += ['https://en.wikipedia.org' + a.get('href') for a in table_links]\n",
    "\n",
    "links = list(set(links))\n",
    "print('links', len(links))\n",
    "links[:5]"
   ]
  },
  {
   "cell_type": "code",
   "execution_count": 73,
   "metadata": {},
   "outputs": [
    {
     "name": "stdout",
     "output_type": "stream",
     "text": [
      "downloaded_names 0\n"
     ]
    }
   ],
   "source": [
    "downloaded_filename = '../data/people.csv'\n",
    "downloaded_names = {}\n",
    "\n",
    "try:\n",
    "    with open(downloaded_filename, 'r') as fp:\n",
    "        names = NamedEntity.from_csv(fp)\n",
    "        for n in names:\n",
    "            downloaded_names[n.src_url] = n\n",
    "except:\n",
    "    pass\n",
    "\n",
    "print('downloaded_names', len(downloaded_names))"
   ]
  },
  {
   "cell_type": "code",
   "execution_count": 74,
   "metadata": {},
   "outputs": [],
   "source": [
    "def save_downloaded_names(downloaded_filename=downloaded_filename, \n",
    "                          downloaded_names=downloaded_names):\n",
    "    \n",
    "    with open(downloaded_filename, 'w') as fp:\n",
    "        NamedEntity.to_csv(downloaded_names.values(), fp)"
   ]
  },
  {
   "cell_type": "code",
   "execution_count": 75,
   "metadata": {},
   "outputs": [
    {
     "name": "stdout",
     "output_type": "stream",
     "text": [
      "Continue downloading from the 1-th entry\n",
      "Can't read name https://en.wikipedia.org/w/index.php?title=Era_Fusahide&action=edit&redlink=1\n",
      "Can't read name https://en.wikipedia.org/w/index.php?title=Kuwana_Tarozaemon&action=edit&redlink=1\n",
      "Can't read name https://en.wikipedia.org/w/index.php?title=Sait%C5%8D_Musashibo_Benkei&action=edit&redlink=1\n",
      "Can't read name https://en.wikipedia.org/wiki/Francis_Xavier_Kaname_Shimamoto\n",
      "Can't read name https://en.wikipedia.org/w/index.php?title=Oda_Hiroyoshi&action=edit&redlink=1\n",
      "Can't read name https://en.wikipedia.org/w/index.php?title=Oda_Nobuyasu&action=edit&redlink=1\n",
      "Can't read name https://en.wikipedia.org#cite_note-164\n",
      "Can't read name https://en.wikipedia.org/wiki/Emi_Maria\n",
      "Can't read name https://en.wikipedia.org/wiki/Ribbon\n",
      "Saving the file... 50\n",
      "Can't read name https://en.wikipedia.org/w/index.php?title=Isshiki_Fujinaga&action=edit&redlink=1\n",
      "Can't read name https://en.wikipedia.org/w/index.php?title=Ujiie_Naomoto&action=edit&redlink=1\n",
      "Can't read name https://en.wikipedia.org/w/index.php?title=Reizei_Takatoyo&action=edit&redlink=1\n",
      "Can't read name https://en.wikipedia.org/w/index.php?title=Takahashi_Mizuko&action=edit&redlink=1\n",
      "Can't read name https://en.wikipedia.org#cite_note-163\n",
      "Saving the file... 100\n",
      "Can't read name https://en.wikipedia.org/w/index.php?title=Wada_Shinsuke&action=edit&redlink=1\n",
      "Can't read name https://en.wikipedia.org/wiki/Mori_Ranmaru\n",
      "Can't read name https://en.wikipedia.org/wiki/Tokugawa_Ietsugu\n",
      "Can't read name https://en.wikipedia.org/wiki/Yui_(singer)\n",
      "Can't read name https://en.wikipedia.org/w/index.php?title=Minoro_Takashi&action=edit&redlink=1\n",
      "Can't read name https://en.wikipedia.org/w/index.php?title=Nagao_Kagenobu&action=edit&redlink=1\n",
      "Can't read name https://en.wikipedia.org/wiki/Joseph_Atsumi_Misue\n",
      "Can't read name https://en.wikipedia.org/wiki/Hiro_(photographer)\n",
      "Can't read name https://en.wikipedia.org/wiki/Januarius_Kyunosuke_Hayasaka\n",
      "Can't read name https://en.wikipedia.org/w/index.php?title=Uyama_Hisanobu&action=edit&redlink=1\n",
      "Can't read name https://en.wikipedia.org/wiki/Yonekura_Shigetsugu\n",
      "Saving the file... 150\n",
      "Can't read name https://en.wikipedia.org/w/index.php?title=Okunomiya_Masaie&action=edit&redlink=1\n",
      "Can't read name https://en.wikipedia.org/w/index.php?title=Rokkaku_Sadayori&action=edit&redlink=1\n",
      "Can't read name https://en.wikipedia.org/w/index.php?title=Ii_Naozumi&action=edit&redlink=1\n",
      "Can't read name https://en.wikipedia.org/w/index.php?title=Ii_Naonaka&action=edit&redlink=1\n",
      "Can't read name https://en.wikipedia.org/w/index.php?title=Enjoji_Nobutane&action=edit&redlink=1\n",
      "Saving the file... 200\n",
      "Can't read name https://en.wikipedia.org/wiki/Ryutaro_Morimoto\n",
      "Can't read name https://en.wikipedia.org/w/index.php?title=Ii_Naoaki&action=edit&redlink=1\n",
      "Can't read name https://en.wikipedia.org/w/index.php?title=Rokkaku_Yoshiharu&action=edit&redlink=1\n",
      "Can't read name https://en.wikipedia.org/wiki/Thomas_Tsugi\n",
      "Can't read name https://en.wikipedia.org#cite_note-162\n",
      "Can't read name https://en.wikipedia.org/w/index.php?title=Hasegawa_Eishin&action=edit&redlink=1\n",
      "Can't read name https://en.wikipedia.org/wiki/Eug%C3%A8ne_Collache\n",
      "Can't read name https://en.wikipedia.org/wiki/Emperor_Go-Daigo\n",
      "Can't read name https://en.wikipedia.org/wiki/Matsunaga_Hisahide\n",
      "Saving the file... 250\n",
      "Can't read name https://en.wikipedia.org/wiki/Peter_Baptist_Tadamaro_Ishigami\n",
      "Can't read name https://en.wikipedia.org/wiki/Kota_Yabu\n",
      "Can't read name https://en.wikipedia.org/wiki/Paulo_Miki\n",
      "Saving the file... 300\n",
      "Can't read name https://en.wikipedia.org/wiki/Jhen%C3%A9_Aiko\n",
      "Can't read name https://en.wikipedia.org/w/index.php?title=Takeda_Nobukatsu&action=edit&redlink=1\n",
      "Can't read name https://en.wikipedia.org/w/index.php?title=Sogo_Nagayasu&action=edit&redlink=1\n",
      "Can't read name https://en.wikipedia.org/wiki/Charles_Horioka\n",
      "Can't read name https://en.wikipedia.org/w/index.php?title=Harada_Naomasa&action=edit&redlink=1\n",
      "Can't read name https://en.wikipedia.org/w/index.php?title=Inugami_Nagayasu&action=edit&redlink=1\n",
      "Can't read name https://en.wikipedia.org/wiki/Myco_(singer)\n",
      "Can't read name https://en.wikipedia.org/wiki/Yuya_Takaki\n",
      "Can't read name https://en.wikipedia.org/wiki/Ry%C5%ABz%C5%8Dji_Takanobu\n",
      "Can't read name https://en.wikipedia.org/w/index.php?title=Tani_Tadasumi&action=edit&redlink=1\n",
      "Saving the file... 350\n",
      "Can't read name https://en.wikipedia.org/w/index.php?title=Magome_Kageyu&action=edit&redlink=1\n",
      "Can't read name https://en.wikipedia.org/w/index.php?title=Araki_Motokiyo&action=edit&redlink=1\n",
      "Can't read name https://en.wikipedia.org/w/index.php?title=Matsunaga_Hisamichi&action=edit&redlink=1\n",
      "Can't read name https://en.wikipedia.org/w/index.php?title=Shindou_Hiroshii&action=edit&redlink=1\n",
      "Can't read name https://en.wikipedia.org#cite_note-165\n",
      "Saving the file... 400\n",
      "Can't read name https://en.wikipedia.org/wiki/Lia\n",
      "Can't read name https://en.wikipedia.org/wiki/Garnet_Crow\n",
      "Can't read name https://en.wikipedia.org/wiki/Yasutaro_Koide\n",
      "Can't read name https://en.wikipedia.org/w/index.php?title=Samez%C5%8D_Kuruma&action=edit&redlink=1\n",
      "Saving the file... 450\n",
      "Can't read name https://en.wikipedia.org/w/index.php?title=Ayame_Kagekatsu&action=edit&redlink=1\n",
      "Can't read name https://en.wikipedia.org/wiki/Peter_Takaaki_Hirayama\n",
      "Can't read name https://en.wikipedia.org/wiki/Tokugawa_Ieshige\n",
      "Can't read name https://en.wikipedia.org/wiki/Melody.\n",
      "Can't read name https://en.wikipedia.org/wiki/Hidetsugu_Aneha\n",
      "Can't read name https://en.wikipedia.org/w/index.php?title=Aiou_Mototsuna&action=edit&redlink=1\n",
      "Can't read name https://en.wikipedia.org/wiki/Meisa_Kuroki\n",
      "Can't read name https://en.wikipedia.org/wiki/Eiichi_Ohtaki\n",
      "Can't read name https://en.wikipedia.org/wiki/Dogen\n",
      "Can't read name https://en.wikipedia.org/w/index.php?title=Moniwa_Yoshinao&action=edit&redlink=1\n",
      "Can't read name https://en.wikipedia.org/wiki/Joseph_Mitsuaki_Takami\n",
      "Saving the file... 500\n",
      "Can't read name https://en.wikipedia.org/wiki/List_of_people_by_nationality\n",
      "Can't read name https://en.wikipedia.org/w/index.php?title=Ukita_Okiie&action=edit&redlink=1\n",
      "Can't read name https://en.wikipedia.org/w/index.php?title=Jinbo_Nagamoto&action=edit&redlink=1\n",
      "Can't read name https://en.wikipedia.org/w/index.php?title=Mori_Tadamasa&action=edit&redlink=1\n",
      "Can't read name https://en.wikipedia.org/wiki/Hiromi_Hayakawa\n",
      "Saving the file... 550\n",
      "Can't read name https://en.wikipedia.org/wiki/T%C5%8Dg%C5%8D_Heihachir%C5%8D\n",
      "Can't read name https://en.wikipedia.org/wiki/JYONGRI\n",
      "Can't read name https://en.wikipedia.org#cite_note-161\n",
      "Can't read name https://en.wikipedia.org/wiki/Imai_Kanehira\n",
      "Can't read name https://en.wikipedia.org/w/index.php?title=Araki_Muratsugu&action=edit&redlink=1\n",
      "Can't read name https://en.wikipedia.org/wiki/Francis_Xavier_Osamu_Mizobe\n",
      "Can't read name https://en.wikipedia.org/wiki/Masumi_Watanabe\n",
      "Can't read name https://en.wikipedia.org/wiki/JASMINE\n",
      "Can't read name https://en.wikipedia.org/wiki/Yutaka_Taniyama\n",
      "Can't read name https://en.wikipedia.org/wiki/Halna\n",
      "Saving the file... 600\n",
      "Can't read name https://en.wikipedia.org/wiki/Masahiko_Aoki\n",
      "Can't read name https://en.wikipedia.org/wiki/Reni_Takagi\n",
      "Can't read name https://en.wikipedia.org/w/index.php?title=Kataoka_Mitsumasa&action=edit&redlink=1\n",
      "Saving the file... 650\n",
      "Can't read name https://en.wikipedia.org/w/index.php?title=Mori_Nagasada&action=edit&redlink=1\n"
     ]
    }
   ],
   "source": [
    "current_size = len(downloaded_names)\n",
    "print('Continue downloading from the %d-th entry' % (current_size + 1))\n",
    "\n",
    "for l in links:\n",
    "    if l in downloaded_names:\n",
    "        continue\n",
    "        \n",
    "    name = wiki.extract_name_from_wiki_page(l)\n",
    "    if not name:\n",
    "        print(\"Can't read name\", l)\n",
    "        continue\n",
    "    \n",
    "    downloaded_names[l] = name\n",
    "    \n",
    "    if len(downloaded_names) >= current_size + 50:\n",
    "        current_size = len(downloaded_names)\n",
    "        print('Saving the file...', current_size)\n",
    "        save_downloaded_names()\n",
    "    \n",
    "    \n",
    "    "
   ]
  },
  {
   "cell_type": "code",
   "execution_count": 76,
   "metadata": {},
   "outputs": [],
   "source": [
    "save_downloaded_names()"
   ]
  },
  {
   "cell_type": "code",
   "execution_count": null,
   "metadata": {},
   "outputs": [],
   "source": []
  },
  {
   "cell_type": "code",
   "execution_count": null,
   "metadata": {},
   "outputs": [],
   "source": []
  },
  {
   "cell_type": "code",
   "execution_count": null,
   "metadata": {},
   "outputs": [],
   "source": []
  }
 ],
 "metadata": {
  "kernelspec": {
   "display_name": "Python 3",
   "language": "python",
   "name": "python3"
  },
  "language_info": {
   "codemirror_mode": {
    "name": "ipython",
    "version": 3
   },
   "file_extension": ".py",
   "mimetype": "text/x-python",
   "name": "python",
   "nbconvert_exporter": "python",
   "pygments_lexer": "ipython3",
   "version": "3.7.5"
  }
 },
 "nbformat": 4,
 "nbformat_minor": 2
}
