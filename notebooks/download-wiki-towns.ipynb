{
 "cells": [
  {
   "cell_type": "code",
   "execution_count": 1,
   "metadata": {},
   "outputs": [],
   "source": [
    "%load_ext autoreload\n",
    "%autoreload 2\n",
    "\n",
    "import re\n",
    "import os\n",
    "import sys\n",
    "import requests\n",
    "\n",
    "\n",
    "from bs4 import BeautifulSoup\n",
    "\n",
    "module_path = os.path.abspath(os.path.join('..'))\n",
    "if module_path not in sys.path:\n",
    "    sys.path.append(module_path)\n",
    "    \n",
    "from name import wiki\n",
    "from name.named_entity import NamedEntity"
   ]
  },
  {
   "cell_type": "code",
   "execution_count": null,
   "metadata": {},
   "outputs": [],
   "source": []
  },
  {
   "cell_type": "markdown",
   "metadata": {},
   "source": [
    "# The Wiki List\n",
    "\n",
    "Starting from the Wiki list page: https://en.wikipedia.org/wiki/List_of_towns_in_Japan\n",
    "\n"
   ]
  },
  {
   "cell_type": "code",
   "execution_count": 11,
   "metadata": {},
   "outputs": [],
   "source": [
    "res = requests.get('https://en.wikipedia.org/wiki/List_of_towns_in_Japan')\n",
    "page = BeautifulSoup(res.text)"
   ]
  },
  {
   "cell_type": "code",
   "execution_count": 17,
   "metadata": {},
   "outputs": [
    {
     "name": "stdout",
     "output_type": "stream",
     "text": [
      "rows 744\n"
     ]
    },
    {
     "data": {
      "text/plain": [
       "[<tr>\n",
       " <td align=\"left\"><a href=\"/wiki/Yaese,_Okinawa\" title=\"Yaese, Okinawa\">Yaese</a></td>\n",
       " <td align=\"left\"><span style=\"font-size:125%;\"><span lang=\"ja\" title=\"Japanese language text\">八重瀬町</span></span></td>\n",
       " <td align=\"left\">Okinawa</td>\n",
       " <td align=\"left\"><a href=\"/wiki/Shimajiri_District,_Okinawa\" title=\"Shimajiri District, Okinawa\">Shimajiri</a></td>\n",
       " <td>26.96\n",
       " </td></tr>, <tr>\n",
       " <td align=\"left\"><a href=\"/wiki/Taketomi,_Okinawa\" title=\"Taketomi, Okinawa\">Taketomi</a></td>\n",
       " <td align=\"left\"><span style=\"font-size:125%;\"><span lang=\"ja\" title=\"Japanese language text\">竹富町</span></span></td>\n",
       " <td align=\"left\">Okinawa</td>\n",
       " <td align=\"left\"><a href=\"/wiki/Yaeyama_District,_Okinawa\" title=\"Yaeyama District, Okinawa\">Yaeyama</a></td>\n",
       " <td>334.39\n",
       " </td></tr>, <tr>\n",
       " <td align=\"left\"><a href=\"/wiki/Yonaguni,_Okinawa\" title=\"Yonaguni, Okinawa\">Yonaguni</a></td>\n",
       " <td align=\"left\"><span style=\"font-size:125%;\"><span lang=\"ja\" title=\"Japanese language text\">与那国町</span></span></td>\n",
       " <td align=\"left\">Okinawa</td>\n",
       " <td align=\"left\"><a href=\"/wiki/Yaeyama_District,_Okinawa\" title=\"Yaeyama District, Okinawa\">Yaeyama</a></td>\n",
       " <td>28.96\n",
       " </td></tr>]"
      ]
     },
     "execution_count": 17,
     "metadata": {},
     "output_type": "execute_result"
    }
   ],
   "source": [
    "rows = page.select('.mw-parser-output .wikitable tbody tr:has(td)')\n",
    "print('rows', len(rows))\n",
    "\n",
    "rows[-3:]"
   ]
  },
  {
   "cell_type": "code",
   "execution_count": 27,
   "metadata": {},
   "outputs": [
    {
     "name": "stdout",
     "output_type": "stream",
     "text": [
      "English:  Nanporo\n",
      "Japanese:  南幌\n",
      "Src:  https://en.wikipedia.org/wiki/Nanporo,_Hokkaido\n"
     ]
    }
   ],
   "source": [
    "row = rows[0]\n",
    "print('English: ', row.select('td')[0].text)\n",
    "print('Japanese: ', row.select('td')[1].text.replace('町', ''))\n",
    "print('Src: ', 'https://en.wikipedia.org' + row.select('td a')[0].get('href'))"
   ]
  },
  {
   "cell_type": "code",
   "execution_count": 28,
   "metadata": {},
   "outputs": [
    {
     "name": "stdout",
     "output_type": "stream",
     "text": [
      "entities 744\n"
     ]
    },
    {
     "data": {
      "text/plain": [
       "[<Entity src_url=https://en.wikipedia.org/wiki/Yaese,_Okinawa (Yaese, 八重瀬)>,\n",
       " <Entity src_url=https://en.wikipedia.org/wiki/Taketomi,_Okinawa (Taketomi, 竹富)>,\n",
       " <Entity src_url=https://en.wikipedia.org/wiki/Yonaguni,_Okinawa (Yonaguni, 与那国)>]"
      ]
     },
     "execution_count": 28,
     "metadata": {},
     "output_type": "execute_result"
    }
   ],
   "source": [
    "entities = []\n",
    "\n",
    "for row in rows:\n",
    "    src_url = 'https://en.wikipedia.org' + row.select('td a')[0].get('href')\n",
    "    en_name = row.select('td')[0].text\n",
    "    jp_names = [\n",
    "        row.select('td')[1].text.replace('町', ''),\n",
    "        row.select('td')[1].text\n",
    "    ]\n",
    "    \n",
    "    entities += [NamedEntity(src_url, english_names=en_name, japanese_names=jp_names)]\n",
    "\n",
    "print('entities', len(entities))\n",
    "entities[-3:]"
   ]
  },
  {
   "cell_type": "code",
   "execution_count": 29,
   "metadata": {},
   "outputs": [],
   "source": [
    "downloaded_filename = '../data/towns.csv'\n",
    "with open(downloaded_filename, 'w') as fp:\n",
    "    NamedEntity.to_csv(entities, fp)"
   ]
  },
  {
   "cell_type": "code",
   "execution_count": null,
   "metadata": {},
   "outputs": [],
   "source": []
  },
  {
   "cell_type": "code",
   "execution_count": null,
   "metadata": {},
   "outputs": [],
   "source": []
  },
  {
   "cell_type": "code",
   "execution_count": null,
   "metadata": {},
   "outputs": [],
   "source": []
  },
  {
   "cell_type": "code",
   "execution_count": null,
   "metadata": {},
   "outputs": [],
   "source": []
  },
  {
   "cell_type": "code",
   "execution_count": null,
   "metadata": {},
   "outputs": [],
   "source": []
  },
  {
   "cell_type": "code",
   "execution_count": null,
   "metadata": {},
   "outputs": [],
   "source": []
  },
  {
   "cell_type": "code",
   "execution_count": null,
   "metadata": {},
   "outputs": [],
   "source": []
  }
 ],
 "metadata": {
  "kernelspec": {
   "display_name": "Python 3",
   "language": "python",
   "name": "python3"
  },
  "language_info": {
   "codemirror_mode": {
    "name": "ipython",
    "version": 3
   },
   "file_extension": ".py",
   "mimetype": "text/x-python",
   "name": "python",
   "nbconvert_exporter": "python",
   "pygments_lexer": "ipython3",
   "version": "3.7.5"
  }
 },
 "nbformat": 4,
 "nbformat_minor": 2
}
